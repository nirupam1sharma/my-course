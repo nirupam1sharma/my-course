{
 "cells": [
  {
   "cell_type": "markdown",
   "metadata": {},
   "source": [
    "# First TensorFlow Neurons"
   ]
  },
  {
   "cell_type": "markdown",
   "metadata": {},
   "source": [
    "#### Load dependencies"
   ]
  },
  {
   "cell_type": "code",
   "execution_count": 1,
   "metadata": {},
   "outputs": [],
   "source": [
    "import numpy as np\n",
    "np.random.seed(42)\n",
    "import tensorflow as tf\n",
    "tf.set_random_seed(42)\n",
    "import matplotlib.pyplot as plt\n",
    "%matplotlib inline"
   ]
  },
  {
   "cell_type": "markdown",
   "metadata": {},
   "source": [
    "#### Set number of neurons"
   ]
  },
  {
   "cell_type": "code",
   "execution_count": 2,
   "metadata": {},
   "outputs": [],
   "source": [
    "n_input = 784\n",
    "n_dense = 128"
   ]
  },
  {
   "cell_type": "markdown",
   "metadata": {},
   "source": [
    "#### Define placeholder Tensor for simulated MNIST digits"
   ]
  },
  {
   "cell_type": "code",
   "execution_count": 3,
   "metadata": {},
   "outputs": [],
   "source": [
    "x = tf.placeholder(tf.float32, [None, n_input])"
   ]
  },
  {
   "cell_type": "markdown",
   "metadata": {},
   "source": [
    "#### Create Variable Tensors for neuron biases `b` and weight matrix `W`"
   ]
  },
  {
   "cell_type": "code",
   "execution_count": 4,
   "metadata": {},
   "outputs": [],
   "source": [
    "b = tf.Variable(tf.zeros([n_dense]))\n",
    "# W = tf.Variable(tf.random_uniform([n_input, n_dense])) # 1.\n",
    "# W = tf.Variable(tf.random_normal([n_input, n_dense])) # 2.\n",
    "W = tf.get_variable('W', [n_input, n_dense], \n",
    "                    initializer=tf.contrib.layers.xavier_initializer())"
   ]
  },
  {
   "cell_type": "markdown",
   "metadata": {},
   "source": [
    "#### Design the computational graph"
   ]
  },
  {
   "cell_type": "code",
   "execution_count": 5,
   "metadata": {},
   "outputs": [],
   "source": [
    "z = tf.add(tf.matmul(x, W), b)\n",
    "a = tf.nn.relu(z) # first with tf.sigmoid(), then stick with tf.tanh() or tf.nn.relu()"
   ]
  },
  {
   "cell_type": "markdown",
   "metadata": {},
   "source": [
    "#### Create op for variable initialization"
   ]
  },
  {
   "cell_type": "code",
   "execution_count": 6,
   "metadata": {},
   "outputs": [],
   "source": [
    "initializer_op = tf.global_variables_initializer()"
   ]
  },
  {
   "cell_type": "markdown",
   "metadata": {},
   "source": [
    "#### Execute the graph in a session"
   ]
  },
  {
   "cell_type": "code",
   "execution_count": 7,
   "metadata": {},
   "outputs": [],
   "source": [
    "with tf.Session() as session:\n",
    "    session.run(initializer_op)\n",
    "    \n",
    "    layer_output = session.run(a, {x: np.random.random([1, n_input])})"
   ]
  },
  {
   "cell_type": "code",
   "execution_count": 8,
   "metadata": {},
   "outputs": [
    {
     "data": {
      "text/plain": [
       "array([[ 0.28484702,  0.66296649,  0.48465875,  0.58361048,  0.        ,\n",
       "         0.02700119,  0.50025719,  0.35395339,  0.33801708,  0.65332055,\n",
       "         0.        ,  0.10179006,  0.        ,  0.61159277,  0.        ,\n",
       "         1.29969335,  0.        ,  0.0700454 ,  0.52458507,  0.60666955,\n",
       "         0.45962104,  0.84671533,  0.10901574,  0.43929845,  0.        ,\n",
       "         0.33268207,  0.10732757,  0.        ,  0.        ,  0.38768527,\n",
       "         0.17347404,  0.        ,  0.        ,  0.        ,  0.04758957,\n",
       "         0.45743263,  0.04072431,  0.        ,  0.27846065,  0.        ,\n",
       "         0.64920127,  0.        ,  0.        ,  0.        ,  0.        ,\n",
       "         0.20801233,  0.        ,  0.        ,  0.        ,  0.54332167,\n",
       "         1.74375212,  0.19492842,  0.25929692,  0.        ,  0.        ,\n",
       "         0.58499128,  0.36324847,  0.        ,  0.        ,  0.        ,\n",
       "         0.        ,  0.8660351 ,  0.        ,  0.        ,  0.83429128,\n",
       "         1.06981802,  0.64549267,  0.        ,  0.        ,  0.        ,\n",
       "         0.        ,  0.56380248,  0.        ,  0.        ,  0.        ,\n",
       "         0.24550769,  0.72879362,  0.28983656,  0.        ,  0.22116758,\n",
       "         0.        ,  0.        ,  0.16525199,  0.92048723,  0.        ,\n",
       "         0.        ,  0.        ,  0.71630067,  0.50095582,  0.62799764,\n",
       "         0.18321247,  0.        ,  0.        ,  0.91466761,  0.        ,\n",
       "         0.07857732,  1.25968564,  0.        ,  0.49644947,  0.00613178,\n",
       "         0.        ,  0.70885855,  0.22226629,  0.35115728,  0.        ,\n",
       "         0.22060682,  0.        ,  0.83496559,  0.82810038,  0.05427774,\n",
       "         0.        ,  0.13187447,  0.        ,  0.02490139,  0.        ,\n",
       "         0.08315995,  1.03106618,  0.        ,  0.30102578,  0.        ,\n",
       "         0.        ,  0.        ,  0.05216391,  0.        ,  0.        ,\n",
       "         0.        ,  0.        ,  0.        ]], dtype=float32)"
      ]
     },
     "execution_count": 8,
     "metadata": {},
     "output_type": "execute_result"
    }
   ],
   "source": [
    "layer_output"
   ]
  },
  {
   "cell_type": "code",
   "execution_count": 9,
   "metadata": {
    "scrolled": true
   },
   "outputs": [
    {
     "data": {
      "image/png": "[encoded data removed]",
      "text/plain": [
       "<matplotlib.figure.Figure at 0x7f719ba976a0>"
      ]
     },
     "metadata": {},
     "output_type": "display_data"
    }
   ],
   "source": [
    "_ = plt.hist(np.transpose(layer_output))"
   ]
  },
  {
   "cell_type": "code",
   "execution_count": null,
   "metadata": {},
   "outputs": [],
   "source": []
  }
 ],
 "metadata": {
  "kernelspec": {
   "display_name": "Python 3",
   "language": "python",
   "name": "python3"
  },
  "language_info": {
   "codemirror_mode": {
    "name": "ipython",
    "version": 3
   },
   "file_extension": ".py",
   "mimetype": "text/x-python",
   "name": "python",
   "nbconvert_exporter": "python",
   "pygments_lexer": "ipython3",
   "version": "3.6.3"
  }
 },
 "nbformat": 4,
 "nbformat_minor": 2
}
