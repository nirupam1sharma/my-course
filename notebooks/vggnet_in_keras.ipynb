{
 "cells": [
  {
   "cell_type": "markdown",
   "metadata": {},
   "source": [
    "# VGGNet in Keras"
   ]
  },
  {
   "cell_type": "markdown",
   "metadata": {},
   "source": [
    "In this notebook, we fit a model inspired by the \"very deep\" convolutional network [VGGNet](https://arxiv.org/pdf/1409.1556.pdf) to classify flowers into the 17 categories of the Oxford Flowers data set. Derived from [these](https://github.com/the-deep-learners/TensorFlow-LiveLessons/blob/master/notebooks/old/L3-3c__TFLearn_VGGNet.ipynb) [two](https://github.com/the-deep-learners/TensorFlow-LiveLessons/blob/master/notebooks/alexnet_in_keras.ipynb) earlier notebooks. "
   ]
  },
  {
   "cell_type": "markdown",
   "metadata": {},
   "source": [
    "#### Set seed for reproducibility"
   ]
  },
  {
   "cell_type": "code",
   "execution_count": 1,
   "metadata": {
    "collapsed": true
   },
   "outputs": [],
   "source": [
    "import numpy as np\n",
    "np.random.seed(42)"
   ]
  },
  {
   "cell_type": "markdown",
   "metadata": {},
   "source": [
    "#### Load dependencies"
   ]
  },
  {
   "cell_type": "code",
   "execution_count": 2,
   "metadata": {},
   "outputs": [
    {
     "name": "stderr",
     "output_type": "stream",
     "text": [
      "Using TensorFlow backend.\n"
     ]
    }
   ],
   "source": [
    "import keras\n",
    "from keras.models import Sequential\n",
    "from keras.layers import Dense, Dropout, Flatten, Conv2D, MaxPooling2D\n",
    "from keras.layers.normalization import BatchNormalization\n",
    "from keras.callbacks import TensorBoard # for part 3.5 on TensorBoard"
   ]
  },
  {
   "cell_type": "markdown",
   "metadata": {},
   "source": [
    "#### Load *and preprocess* data"
   ]
  },
  {
   "cell_type": "code",
   "execution_count": 3,
   "metadata": {
    "collapsed": true
   },
   "outputs": [],
   "source": [
    "import tflearn.datasets.oxflower17 as oxflower17\n",
    "X, Y = oxflower17.load_data(one_hot=True)"
   ]
  },
  {
   "cell_type": "markdown",
   "metadata": {},
   "source": [
    "#### Design neural network architecture"
   ]
  },
  {
   "cell_type": "code",
   "execution_count": 4,
   "metadata": {
    "collapsed": true
   },
   "outputs": [],
   "source": [
    "model = Sequential()\n",
    "\n",
    "model.add(Conv2D(64, 3, activation='relu', input_shape=(224, 224, 3)))\n",
    "model.add(Conv2D(64, 3, activation='relu'))\n",
    "model.add(MaxPooling2D(2, 2))\n",
    "model.add(BatchNormalization())\n",
    "\n",
    "model.add(Conv2D(128, 3, activation='relu'))\n",
    "model.add(Conv2D(128, 3, activation='relu'))\n",
    "model.add(MaxPooling2D(2, 2))\n",
    "model.add(BatchNormalization())\n",
    "\n",
    "model.add(Conv2D(256, 3, activation='relu'))\n",
    "model.add(Conv2D(256, 3, activation='relu'))\n",
    "model.add(Conv2D(256, 3, activation='relu'))\n",
    "model.add(MaxPooling2D(2, 2))\n",
    "model.add(BatchNormalization())\n",
    "\n",
    "model.add(Conv2D(512, 3, activation='relu'))\n",
    "model.add(Conv2D(512, 3, activation='relu'))\n",
    "model.add(Conv2D(512, 3, activation='relu'))\n",
    "model.add(MaxPooling2D(2, 2))\n",
    "model.add(BatchNormalization())\n",
    "\n",
    "model.add(Conv2D(512, 3, activation='relu'))\n",
    "model.add(Conv2D(512, 3, activation='relu'))\n",
    "model.add(Conv2D(512, 3, activation='relu'))\n",
    "model.add(MaxPooling2D(2, 2))\n",
    "model.add(BatchNormalization())\n",
    "\n",
    "model.add(Flatten())\n",
    "model.add(Dense(4096, activation='relu'))\n",
    "model.add(Dropout(0.5))\n",
    "model.add(Dense(4096, activation='relu'))\n",
    "model.add(Dropout(0.5))\n",
    "\n",
    "model.add(Dense(17, activation='softmax'))"
   ]
  },
  {
   "cell_type": "code",
   "execution_count": 5,
   "metadata": {},
   "outputs": [
    {
     "name": "stdout",
     "output_type": "stream",
     "text": [
      "_________________________________________________________________\n",
      "Layer (type)                 Output Shape              Param #   \n",
      "=================================================================\n",
      "conv2d_1 (Conv2D)            (None, 222, 222, 64)      1792      \n",
      "_________________________________________________________________\n",
      "conv2d_2 (Conv2D)            (None, 220, 220, 64)      36928     \n",
      "_________________________________________________________________\n",
      "max_pooling2d_1 (MaxPooling2 (None, 110, 110, 64)      0         \n",
      "_________________________________________________________________\n",
      "batch_normalization_1 (Batch (None, 110, 110, 64)      256       \n",
      "_________________________________________________________________\n",
      "conv2d_3 (Conv2D)            (None, 108, 108, 128)     73856     \n",
      "_________________________________________________________________\n",
      "conv2d_4 (Conv2D)            (None, 106, 106, 128)     147584    \n",
      "_________________________________________________________________\n",
      "max_pooling2d_2 (MaxPooling2 (None, 53, 53, 128)       0         \n",
      "_________________________________________________________________\n",
      "batch_normalization_2 (Batch (None, 53, 53, 128)       512       \n",
      "_________________________________________________________________\n",
      "conv2d_5 (Conv2D)            (None, 51, 51, 256)       295168    \n",
      "_________________________________________________________________\n",
      "conv2d_6 (Conv2D)            (None, 49, 49, 256)       590080    \n",
      "_________________________________________________________________\n",
      "conv2d_7 (Conv2D)            (None, 47, 47, 256)       590080    \n",
      "_________________________________________________________________\n",
      "max_pooling2d_3 (MaxPooling2 (None, 23, 23, 256)       0         \n",
      "_________________________________________________________________\n",
      "batch_normalization_3 (Batch (None, 23, 23, 256)       1024      \n",
      "_________________________________________________________________\n",
      "conv2d_8 (Conv2D)            (None, 21, 21, 512)       1180160   \n",
      "_________________________________________________________________\n",
      "conv2d_9 (Conv2D)            (None, 19, 19, 512)       2359808   \n",
      "_________________________________________________________________\n",
      "conv2d_10 (Conv2D)           (None, 17, 17, 512)       2359808   \n",
      "_________________________________________________________________\n",
      "max_pooling2d_4 (MaxPooling2 (None, 8, 8, 512)         0         \n",
      "_________________________________________________________________\n",
      "batch_normalization_4 (Batch (None, 8, 8, 512)         2048      \n",
      "_________________________________________________________________\n",
      "conv2d_11 (Conv2D)           (None, 6, 6, 512)         2359808   \n",
      "_________________________________________________________________\n",
      "conv2d_12 (Conv2D)           (None, 4, 4, 512)         2359808   \n",
      "_________________________________________________________________\n",
      "conv2d_13 (Conv2D)           (None, 2, 2, 512)         2359808   \n",
      "_________________________________________________________________\n",
      "max_pooling2d_5 (MaxPooling2 (None, 1, 1, 512)         0         \n",
      "_________________________________________________________________\n",
      "batch_normalization_5 (Batch (None, 1, 1, 512)         2048      \n",
      "_________________________________________________________________\n",
      "flatten_1 (Flatten)          (None, 512)               0         \n",
      "_________________________________________________________________\n",
      "dense_1 (Dense)              (None, 4096)              2101248   \n",
      "_________________________________________________________________\n",
      "dropout_1 (Dropout)          (None, 4096)              0         \n",
      "_________________________________________________________________\n",
      "dense_2 (Dense)              (None, 4096)              16781312  \n",
      "_________________________________________________________________\n",
      "dropout_2 (Dropout)          (None, 4096)              0         \n",
      "_________________________________________________________________\n",
      "dense_3 (Dense)              (None, 17)                69649     \n",
      "=================================================================\n",
      "Total params: 33,672,785\n",
      "Trainable params: 33,669,841\n",
      "Non-trainable params: 2,944\n",
      "_________________________________________________________________\n"
     ]
    }
   ],
   "source": [
    "model.summary()"
   ]
  },
  {
   "cell_type": "markdown",
   "metadata": {},
   "source": [
    "#### Configure model"
   ]
  },
  {
   "cell_type": "code",
   "execution_count": 6,
   "metadata": {
    "collapsed": true
   },
   "outputs": [],
   "source": [
    "model.compile(loss='categorical_crossentropy', optimizer='adam', metrics=['accuracy'])"
   ]
  },
  {
   "cell_type": "markdown",
   "metadata": {},
   "source": [
    "#### Configure TensorBoard (for part 5 of lesson 3)"
   ]
  },
  {
   "cell_type": "code",
   "execution_count": null,
   "metadata": {
    "collapsed": true
   },
   "outputs": [],
   "source": [
    "tensorbrd = TensorBoard('logs/vggnet')"
   ]
  },
  {
   "cell_type": "markdown",
   "metadata": {},
   "source": [
    "#### Train!"
   ]
  },
  {
   "cell_type": "code",
   "execution_count": null,
   "metadata": {},
   "outputs": [
    {
     "name": "stdout",
     "output_type": "stream",
     "text": [
      "Train on 1224 samples, validate on 136 samples\n",
      "Epoch 1/16\n",
      "1224/1224 [==============================] - 784s - loss: 4.1356 - acc: 0.0735 - val_loss: 12.5035 - val_acc: 0.0368\n",
      "Epoch 2/16\n",
      "1224/1224 [==============================] - 774s - loss: 3.4962 - acc: 0.1062 - val_loss: 13.7122 - val_acc: 0.0735\n",
      "Epoch 3/16\n",
      "1224/1224 [==============================] - 773s - loss: 2.9282 - acc: 0.1373 - val_loss: 13.0526 - val_acc: 0.0441\n",
      "Epoch 4/16\n",
      "1224/1224 [==============================] - 774s - loss: 3.1878 - acc: 0.1381 - val_loss: 3.1900 - val_acc: 0.0956\n",
      "Epoch 5/16\n",
      "1224/1224 [==============================] - 773s - loss: 3.4662 - acc: 0.0752 - val_loss: 2.8582 - val_acc: 0.0588\n",
      "Epoch 6/16\n",
      "1224/1224 [==============================] - 770s - loss: 3.2509 - acc: 0.1119 - val_loss: 2.8061 - val_acc: 0.0441\n",
      "Epoch 7/16\n",
      "1224/1224 [==============================] - 770s - loss: 2.8882 - acc: 0.1193 - val_loss: 2.6081 - val_acc: 0.1029\n",
      "Epoch 8/16\n",
      "1224/1224 [==============================] - 772s - loss: 3.1455 - acc: 0.1144 - val_loss: 3.9969 - val_acc: 0.0588\n",
      "Epoch 9/16\n",
      "1224/1224 [==============================] - 773s - loss: 3.2672 - acc: 0.1185 - val_loss: 5.0395 - val_acc: 0.0515\n",
      "Epoch 10/16\n",
      "1224/1224 [==============================] - 771s - loss: 2.8959 - acc: 0.1324 - val_loss: 2.8850 - val_acc: 0.0662\n",
      "Epoch 11/16\n",
      "1224/1224 [==============================] - 771s - loss: 2.6121 - acc: 0.1765 - val_loss: 2.7125 - val_acc: 0.0588\n",
      "Epoch 12/16\n",
      "1224/1224 [==============================] - 771s - loss: 2.5183 - acc: 0.1675 - val_loss: 2.5720 - val_acc: 0.1176\n",
      "Epoch 13/16\n",
      "1224/1224 [==============================] - 771s - loss: 2.6153 - acc: 0.1822 - val_loss: 6.8114 - val_acc: 0.1103\n",
      "Epoch 14/16\n",
      "1224/1224 [==============================] - 770s - loss: 2.6700 - acc: 0.1748 - val_loss: 4.6305 - val_acc: 0.1324\n",
      "Epoch 15/16\n",
      "1088/1224 [=========================>....] - ETA: 82s - loss: 2.7326 - acc: 0.1967 "
     ]
    }
   ],
   "source": [
    "model.fit(X, Y, batch_size=64, epochs=16, verbose=1, validation_split=0.1, shuffle=True,\n",
    "          callbacks=[tensorbrd])"
   ]
  },
  {
   "cell_type": "code",
   "execution_count": null,
   "metadata": {
    "collapsed": true
   },
   "outputs": [],
   "source": []
  }
 ],
 "metadata": {
  "kernelspec": {
   "display_name": "Python 3",
   "language": "python",
   "name": "python3"
  },
  "language_info": {
   "codemirror_mode": {
    "name": "ipython",
    "version": 3
   },
   "file_extension": ".py",
   "mimetype": "text/x-python",
   "name": "python",
   "nbconvert_exporter": "python",
   "pygments_lexer": "ipython3",
   "version": "3.6.1"
  }
 },
 "nbformat": 4,
 "nbformat_minor": 2
}
